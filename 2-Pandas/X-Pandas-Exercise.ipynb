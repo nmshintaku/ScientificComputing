{
 "cells": [
  {
   "cell_type": "markdown",
   "metadata": {},
   "source": [
    "# Problem Set 5: Using Pandas\n",
    "Follow the instructions below."
   ]
  },
  {
   "cell_type": "markdown",
   "metadata": {},
   "source": [
    "### Importing the package"
   ]
  },
  {
   "cell_type": "code",
   "execution_count": 1,
   "metadata": {},
   "outputs": [],
   "source": [
    "#Import pandas\n",
    "import pandas as pd"
   ]
  },
  {
   "cell_type": "markdown",
   "metadata": {},
   "source": [
    "### 1. Loading and exploring the data\n",
    "► Q1.1 Import the `EleTaiOneWeek.csv` file (located in the data folder) into a pandas dataframe.\n",
    "  * Modify the code below so that the `CalcID` field is imported as a string \n",
    "  * Note how `parse_dates` imports the `StartDate`,`EndDate`, and `Fixtime` fields as date fields"
   ]
  },
  {
   "cell_type": "code",
   "execution_count": 3,
   "metadata": {},
   "outputs": [],
   "source": [
    "#Load the data as instructed\n",
    "df = pd.read_csv('../data/EleTaiOneWeek.csv',\n",
    "                 parse_dates=['StartDate','EndDate','Fixtime'],\n",
    "                 dtype={'CalcID':'str'})"
   ]
  },
  {
   "cell_type": "markdown",
   "metadata": {},
   "source": [
    "---\n",
    "► Q1.2 Display the first 5 records in the dataframe"
   ]
  },
  {
   "cell_type": "code",
   "execution_count": 4,
   "metadata": {},
   "outputs": [
    {
     "data": {
      "text/html": [
       "<div>\n",
       "<style scoped>\n",
       "    .dataframe tbody tr th:only-of-type {\n",
       "        vertical-align: middle;\n",
       "    }\n",
       "\n",
       "    .dataframe tbody tr th {\n",
       "        vertical-align: top;\n",
       "    }\n",
       "\n",
       "    .dataframe thead th {\n",
       "        text-align: right;\n",
       "    }\n",
       "</style>\n",
       "<table border=\"1\" class=\"dataframe\">\n",
       "  <thead>\n",
       "    <tr style=\"text-align: right;\">\n",
       "      <th></th>\n",
       "      <th>MovDataID</th>\n",
       "      <th>CalcID</th>\n",
       "      <th>StartDate</th>\n",
       "      <th>EndDate</th>\n",
       "      <th>Fixtime</th>\n",
       "      <th>X</th>\n",
       "      <th>Y</th>\n",
       "      <th>Z</th>\n",
       "    </tr>\n",
       "  </thead>\n",
       "  <tbody>\n",
       "    <tr>\n",
       "      <th>0</th>\n",
       "      <td>Cami</td>\n",
       "      <td>587</td>\n",
       "      <td>2017-04-09 07:33:40</td>\n",
       "      <td>2017-04-15 16:31:42</td>\n",
       "      <td>2017-04-09 08:14:57</td>\n",
       "      <td>-7.626650</td>\n",
       "      <td>6.242050</td>\n",
       "      <td>NaN</td>\n",
       "    </tr>\n",
       "    <tr>\n",
       "      <th>1</th>\n",
       "      <td>Cami</td>\n",
       "      <td>587</td>\n",
       "      <td>2017-04-09 07:33:40</td>\n",
       "      <td>2017-04-15 16:31:42</td>\n",
       "      <td>2017-04-09 10:13:55</td>\n",
       "      <td>-7.628533</td>\n",
       "      <td>6.239200</td>\n",
       "      <td>NaN</td>\n",
       "    </tr>\n",
       "    <tr>\n",
       "      <th>2</th>\n",
       "      <td>Cami</td>\n",
       "      <td>587</td>\n",
       "      <td>2017-04-09 07:33:40</td>\n",
       "      <td>2017-04-15 16:31:42</td>\n",
       "      <td>2017-04-09 11:14:33</td>\n",
       "      <td>-7.628367</td>\n",
       "      <td>6.238933</td>\n",
       "      <td>NaN</td>\n",
       "    </tr>\n",
       "    <tr>\n",
       "      <th>3</th>\n",
       "      <td>Cami</td>\n",
       "      <td>587</td>\n",
       "      <td>2017-04-09 07:33:40</td>\n",
       "      <td>2017-04-15 16:31:42</td>\n",
       "      <td>2017-04-09 12:14:07</td>\n",
       "      <td>-7.629200</td>\n",
       "      <td>6.237500</td>\n",
       "      <td>NaN</td>\n",
       "    </tr>\n",
       "    <tr>\n",
       "      <th>4</th>\n",
       "      <td>Cami</td>\n",
       "      <td>587</td>\n",
       "      <td>2017-04-09 07:33:40</td>\n",
       "      <td>2017-04-15 16:31:42</td>\n",
       "      <td>2017-04-09 13:13:56</td>\n",
       "      <td>-7.629800</td>\n",
       "      <td>6.238400</td>\n",
       "      <td>NaN</td>\n",
       "    </tr>\n",
       "  </tbody>\n",
       "</table>\n",
       "</div>"
      ],
      "text/plain": [
       "  MovDataID CalcID           StartDate             EndDate  \\\n",
       "0      Cami    587 2017-04-09 07:33:40 2017-04-15 16:31:42   \n",
       "1      Cami    587 2017-04-09 07:33:40 2017-04-15 16:31:42   \n",
       "2      Cami    587 2017-04-09 07:33:40 2017-04-15 16:31:42   \n",
       "3      Cami    587 2017-04-09 07:33:40 2017-04-15 16:31:42   \n",
       "4      Cami    587 2017-04-09 07:33:40 2017-04-15 16:31:42   \n",
       "\n",
       "              Fixtime         X         Y   Z  \n",
       "0 2017-04-09 08:14:57 -7.626650  6.242050 NaN  \n",
       "1 2017-04-09 10:13:55 -7.628533  6.239200 NaN  \n",
       "2 2017-04-09 11:14:33 -7.628367  6.238933 NaN  \n",
       "3 2017-04-09 12:14:07 -7.629200  6.237500 NaN  \n",
       "4 2017-04-09 13:13:56 -7.629800  6.238400 NaN  "
      ]
     },
     "execution_count": 4,
     "metadata": {},
     "output_type": "execute_result"
    }
   ],
   "source": [
    "#Display the \"head\" (i.e. the first 5 records) of the dataframe\n",
    "df.head()"
   ]
  },
  {
   "cell_type": "markdown",
   "metadata": {},
   "source": [
    "---\n",
    "► Q1.3 Display the data types of each column"
   ]
  },
  {
   "cell_type": "code",
   "execution_count": 5,
   "metadata": {},
   "outputs": [
    {
     "data": {
      "text/plain": [
       "MovDataID            object\n",
       "CalcID               object\n",
       "StartDate    datetime64[ns]\n",
       "EndDate      datetime64[ns]\n",
       "Fixtime      datetime64[ns]\n",
       "X                   float64\n",
       "Y                   float64\n",
       "Z                   float64\n",
       "dtype: object"
      ]
     },
     "execution_count": 5,
     "metadata": {},
     "output_type": "execute_result"
    }
   ],
   "source": [
    "#Display the data types of each column\n",
    "df.dtypes"
   ]
  },
  {
   "cell_type": "markdown",
   "metadata": {},
   "source": [
    "---\n",
    "► Q1.4 List each unique value in the `MovDataID` column"
   ]
  },
  {
   "cell_type": "code",
   "execution_count": 8,
   "metadata": {},
   "outputs": [
    {
     "data": {
      "text/plain": [
       "array(['Cami', 'George', 'Frank', 'Yves', 'Tapa', 'Claudine', 'DjeDje',\n",
       "       'Mahmahdou', 'Blanche', 'Sylvie', 'Zamba', 'Laura', 'Omar', 'Dave',\n",
       "       'Anika', 'Marie'], dtype=object)"
      ]
     },
     "execution_count": 8,
     "metadata": {},
     "output_type": "execute_result"
    }
   ],
   "source": [
    "#List each unique value in the MovDataID column\n",
    "df['MovDataID'].unique()"
   ]
  },
  {
   "cell_type": "markdown",
   "metadata": {},
   "source": [
    "---\n",
    "► Q1.5 How many unique dates are in the `Fixtime` field?"
   ]
  },
  {
   "cell_type": "code",
   "execution_count": 10,
   "metadata": {},
   "outputs": [
    {
     "data": {
      "text/plain": [
       "1644"
      ]
     },
     "execution_count": 10,
     "metadata": {},
     "output_type": "execute_result"
    }
   ],
   "source": [
    "#Display the number of values in the `Fixtime` column\n",
    "df['Fixtime'].nunique()"
   ]
  },
  {
   "cell_type": "markdown",
   "metadata": {},
   "source": [
    "---\n",
    "### 2. Subsetting data"
   ]
  },
  {
   "cell_type": "markdown",
   "metadata": {},
   "source": [
    "► Q2.1 Extract values in the `X` column into a variable called `xCoords`"
   ]
  },
  {
   "cell_type": "code",
   "execution_count": 13,
   "metadata": {},
   "outputs": [],
   "source": [
    "#Extract the X values into a series called xCoords\n",
    "xCoords = df['X']"
   ]
  },
  {
   "cell_type": "markdown",
   "metadata": {},
   "source": [
    "---\n",
    "► Q2.2 Display the last 10 values in the `Xcoords` series"
   ]
  },
  {
   "cell_type": "code",
   "execution_count": 17,
   "metadata": {},
   "outputs": [
    {
     "data": {
      "text/plain": [
       "1997   -7.881133\n",
       "1998   -7.877033\n",
       "1999   -7.873417\n",
       "2000   -7.869183\n",
       "2001   -7.867383\n",
       "2002   -7.866850\n",
       "2003   -7.866783\n",
       "2004   -7.861517\n",
       "2005   -7.855983\n",
       "2006   -7.860733\n",
       "Name: X, dtype: float64"
      ]
     },
     "execution_count": 17,
     "metadata": {},
     "output_type": "execute_result"
    }
   ],
   "source": [
    "#Display the last 10 values in the series\n",
    "xCoords[-10:]"
   ]
  },
  {
   "cell_type": "markdown",
   "metadata": {},
   "source": [
    "---\n",
    "► Q2.3 Create a dataframe of just the `X` and `Y` columns and show the head (first 5 rows) of the dataframe"
   ]
  },
  {
   "cell_type": "code",
   "execution_count": 18,
   "metadata": {},
   "outputs": [
    {
     "data": {
      "text/html": [
       "<div>\n",
       "<style scoped>\n",
       "    .dataframe tbody tr th:only-of-type {\n",
       "        vertical-align: middle;\n",
       "    }\n",
       "\n",
       "    .dataframe tbody tr th {\n",
       "        vertical-align: top;\n",
       "    }\n",
       "\n",
       "    .dataframe thead th {\n",
       "        text-align: right;\n",
       "    }\n",
       "</style>\n",
       "<table border=\"1\" class=\"dataframe\">\n",
       "  <thead>\n",
       "    <tr style=\"text-align: right;\">\n",
       "      <th></th>\n",
       "      <th>X</th>\n",
       "      <th>Y</th>\n",
       "    </tr>\n",
       "  </thead>\n",
       "  <tbody>\n",
       "    <tr>\n",
       "      <th>0</th>\n",
       "      <td>-7.626650</td>\n",
       "      <td>6.242050</td>\n",
       "    </tr>\n",
       "    <tr>\n",
       "      <th>1</th>\n",
       "      <td>-7.628533</td>\n",
       "      <td>6.239200</td>\n",
       "    </tr>\n",
       "    <tr>\n",
       "      <th>2</th>\n",
       "      <td>-7.628367</td>\n",
       "      <td>6.238933</td>\n",
       "    </tr>\n",
       "    <tr>\n",
       "      <th>3</th>\n",
       "      <td>-7.629200</td>\n",
       "      <td>6.237500</td>\n",
       "    </tr>\n",
       "    <tr>\n",
       "      <th>4</th>\n",
       "      <td>-7.629800</td>\n",
       "      <td>6.238400</td>\n",
       "    </tr>\n",
       "  </tbody>\n",
       "</table>\n",
       "</div>"
      ],
      "text/plain": [
       "          X         Y\n",
       "0 -7.626650  6.242050\n",
       "1 -7.628533  6.239200\n",
       "2 -7.628367  6.238933\n",
       "3 -7.629200  6.237500\n",
       "4 -7.629800  6.238400"
      ]
     },
     "execution_count": 18,
     "metadata": {},
     "output_type": "execute_result"
    }
   ],
   "source": [
    "#Create a dataframe of just the X and Y columns and show the first 5 rows of data\n",
    "dfXY = df[['X','Y']]\n",
    "dfXY.head()"
   ]
  },
  {
   "cell_type": "markdown",
   "metadata": {},
   "source": [
    "---\n",
    "► Q2.4 Create a Boolean mask (`dfGeorgeMask`) for all records where `MovDataID` is \"George\""
   ]
  },
  {
   "cell_type": "code",
   "execution_count": 19,
   "metadata": {},
   "outputs": [],
   "source": [
    "#Create Boolean mask where MovDataID has the value \"George\"\n",
    "mask_George = df['MovDataID'] == \"George\""
   ]
  },
  {
   "cell_type": "markdown",
   "metadata": {},
   "source": [
    "---\n",
    "► Q2.5 Select all records where the MovDataID equals \"George\" into a dataframe called `dfGeorge`\n",
    " * *Feel free to use the Boolean mask above or use other techniques.*"
   ]
  },
  {
   "cell_type": "code",
   "execution_count": 20,
   "metadata": {},
   "outputs": [
    {
     "data": {
      "text/html": [
       "<div>\n",
       "<style scoped>\n",
       "    .dataframe tbody tr th:only-of-type {\n",
       "        vertical-align: middle;\n",
       "    }\n",
       "\n",
       "    .dataframe tbody tr th {\n",
       "        vertical-align: top;\n",
       "    }\n",
       "\n",
       "    .dataframe thead th {\n",
       "        text-align: right;\n",
       "    }\n",
       "</style>\n",
       "<table border=\"1\" class=\"dataframe\">\n",
       "  <thead>\n",
       "    <tr style=\"text-align: right;\">\n",
       "      <th></th>\n",
       "      <th>MovDataID</th>\n",
       "      <th>CalcID</th>\n",
       "      <th>StartDate</th>\n",
       "      <th>EndDate</th>\n",
       "      <th>Fixtime</th>\n",
       "      <th>X</th>\n",
       "      <th>Y</th>\n",
       "      <th>Z</th>\n",
       "    </tr>\n",
       "  </thead>\n",
       "  <tbody>\n",
       "    <tr>\n",
       "      <th>139</th>\n",
       "      <td>George</td>\n",
       "      <td>588</td>\n",
       "      <td>2017-04-09 07:33:40</td>\n",
       "      <td>2017-04-15 16:31:42</td>\n",
       "      <td>2017-04-09 08:12:27</td>\n",
       "      <td>-7.622767</td>\n",
       "      <td>6.205850</td>\n",
       "      <td>NaN</td>\n",
       "    </tr>\n",
       "    <tr>\n",
       "      <th>140</th>\n",
       "      <td>George</td>\n",
       "      <td>588</td>\n",
       "      <td>2017-04-09 07:33:40</td>\n",
       "      <td>2017-04-15 16:31:42</td>\n",
       "      <td>2017-04-09 10:12:33</td>\n",
       "      <td>-7.622517</td>\n",
       "      <td>6.204767</td>\n",
       "      <td>NaN</td>\n",
       "    </tr>\n",
       "    <tr>\n",
       "      <th>141</th>\n",
       "      <td>George</td>\n",
       "      <td>588</td>\n",
       "      <td>2017-04-09 07:33:40</td>\n",
       "      <td>2017-04-15 16:31:42</td>\n",
       "      <td>2017-04-09 11:14:27</td>\n",
       "      <td>-7.622500</td>\n",
       "      <td>6.205317</td>\n",
       "      <td>NaN</td>\n",
       "    </tr>\n",
       "    <tr>\n",
       "      <th>142</th>\n",
       "      <td>George</td>\n",
       "      <td>588</td>\n",
       "      <td>2017-04-09 07:33:40</td>\n",
       "      <td>2017-04-15 16:31:42</td>\n",
       "      <td>2017-04-09 12:12:51</td>\n",
       "      <td>-7.623750</td>\n",
       "      <td>6.207250</td>\n",
       "      <td>NaN</td>\n",
       "    </tr>\n",
       "    <tr>\n",
       "      <th>143</th>\n",
       "      <td>George</td>\n",
       "      <td>588</td>\n",
       "      <td>2017-04-09 07:33:40</td>\n",
       "      <td>2017-04-15 16:31:42</td>\n",
       "      <td>2017-04-09 14:12:02</td>\n",
       "      <td>-7.626583</td>\n",
       "      <td>6.208233</td>\n",
       "      <td>NaN</td>\n",
       "    </tr>\n",
       "  </tbody>\n",
       "</table>\n",
       "</div>"
      ],
      "text/plain": [
       "    MovDataID CalcID           StartDate             EndDate  \\\n",
       "139    George    588 2017-04-09 07:33:40 2017-04-15 16:31:42   \n",
       "140    George    588 2017-04-09 07:33:40 2017-04-15 16:31:42   \n",
       "141    George    588 2017-04-09 07:33:40 2017-04-15 16:31:42   \n",
       "142    George    588 2017-04-09 07:33:40 2017-04-15 16:31:42   \n",
       "143    George    588 2017-04-09 07:33:40 2017-04-15 16:31:42   \n",
       "\n",
       "                Fixtime         X         Y   Z  \n",
       "139 2017-04-09 08:12:27 -7.622767  6.205850 NaN  \n",
       "140 2017-04-09 10:12:33 -7.622517  6.204767 NaN  \n",
       "141 2017-04-09 11:14:27 -7.622500  6.205317 NaN  \n",
       "142 2017-04-09 12:12:51 -7.623750  6.207250 NaN  \n",
       "143 2017-04-09 14:12:02 -7.626583  6.208233 NaN  "
      ]
     },
     "execution_count": 20,
     "metadata": {},
     "output_type": "execute_result"
    }
   ],
   "source": [
    "#Create a new dataframe of just records where MovDataID is \"George\"\n",
    "dfGeorge = df.loc[mask_George]\n",
    "dfGeorge.head()"
   ]
  },
  {
   "cell_type": "markdown",
   "metadata": {},
   "source": [
    "---\n",
    "### 3. Answering questions with the data\n",
    "► Q3.1 If the 'Y' column represents latitude, what's the southern most location George has been seen?"
   ]
  },
  {
   "cell_type": "code",
   "execution_count": 21,
   "metadata": {},
   "outputs": [
    {
     "data": {
      "text/plain": [
       "6.2032"
      ]
     },
     "execution_count": 21,
     "metadata": {},
     "output_type": "execute_result"
    }
   ],
   "source": [
    "#Display the southern most location of the \"George\" subset\n",
    "dfGeorge['Y'].min()"
   ]
  },
  {
   "cell_type": "markdown",
   "metadata": {},
   "source": [
    "---\n",
    "► Q3.2 Somehow demonstrate that George been seen north of 6.23°N **28** times."
   ]
  },
  {
   "cell_type": "code",
   "execution_count": 26,
   "metadata": {},
   "outputs": [
    {
     "data": {
      "text/plain": [
       "28"
      ]
     },
     "execution_count": 26,
     "metadata": {},
     "output_type": "execute_result"
    }
   ],
   "source": [
    "dfGeorge_north = dfGeorge.query('Y > 6.23')\n",
    "dfGeorge_north.count()[\"Y\"]"
   ]
  },
  {
   "cell_type": "markdown",
   "metadata": {},
   "source": [
    "---\n",
    "► Q3.3 How many times has George been seen north of 6.23°N *and* west of -7.62°W?"
   ]
  },
  {
   "cell_type": "code",
   "execution_count": 29,
   "metadata": {},
   "outputs": [
    {
     "data": {
      "text/plain": [
       "MovDataID    18\n",
       "CalcID       18\n",
       "StartDate    18\n",
       "EndDate      18\n",
       "Fixtime      18\n",
       "X            18\n",
       "Y            18\n",
       "Z             0\n",
       "dtype: int64"
      ]
     },
     "execution_count": 29,
     "metadata": {},
     "output_type": "execute_result"
    }
   ],
   "source": [
    "dfGeorge_N_S = dfGeorge.query('Y > 6.23 & X < -7.62')\n",
    "dfGeorge_N_S.count()\n",
    "#18 times"
   ]
  },
  {
   "cell_type": "markdown",
   "metadata": {},
   "source": [
    "► Q3.4 What's the *earliest* \"Fixtime\" date George has been seen 6.23°N and west of -7.62°W?"
   ]
  },
  {
   "cell_type": "code",
   "execution_count": 30,
   "metadata": {},
   "outputs": [
    {
     "data": {
      "text/plain": [
       "Timestamp('2017-04-10 04:12:32')"
      ]
     },
     "execution_count": 30,
     "metadata": {},
     "output_type": "execute_result"
    }
   ],
   "source": [
    "dfGeorge_N_S['Fixtime'].min()"
   ]
  },
  {
   "cell_type": "markdown",
   "metadata": {},
   "source": [
    "## A cool plot! \n",
    "If we set the index of our table to a time column, then plot the XY coordinates, we can visualize the track of our elephant..."
   ]
  },
  {
   "cell_type": "code",
   "execution_count": 31,
   "metadata": {},
   "outputs": [
    {
     "data": {
      "image/png": "[encoded data removed]",
      "text/plain": [
       "<Figure size 432x288 with 1 Axes>"
      ]
     },
     "metadata": {
      "needs_background": "light"
     },
     "output_type": "display_data"
    }
   ],
   "source": [
    "#Plot the path of George!\n",
    "dfGeorge.set_index('Fixtime').plot(x='X',y='Y');"
   ]
  },
  {
   "cell_type": "markdown",
   "metadata": {},
   "source": [
    "See if you can to it with another elephant. You'll have to subset the table for a different individual, then repeat the steps above..."
   ]
  },
  {
   "cell_type": "code",
   "execution_count": 32,
   "metadata": {},
   "outputs": [
    {
     "data": {
      "image/png": "[encoded data removed]",
      "text/plain": [
       "<Figure size 432x288 with 1 Axes>"
      ]
     },
     "metadata": {
      "needs_background": "light"
     },
     "output_type": "display_data"
    }
   ],
   "source": [
    "#Plot the path of Cami\n",
    "mask_Cami = df['MovDataID'] == \"Cami\"\n",
    "dfCami = df.loc[mask_Cami]\n",
    "\n",
    "dfCami.set_index('Fixtime').plot(x='X',y='Y');"
   ]
  },
  {
   "cell_type": "markdown",
   "metadata": {},
   "source": [
    "---\n",
    "### 4. Grouping/aggregating data\n",
    "► Q4.1 Group the dataframe of all elephants on the `MovDataID` attribute into a \"groupBy\" object called `grpName`."
   ]
  },
  {
   "cell_type": "code",
   "execution_count": 33,
   "metadata": {},
   "outputs": [],
   "source": [
    "grpName = df.groupby('MovDataID')"
   ]
  },
  {
   "cell_type": "markdown",
   "metadata": {},
   "source": [
    "► Q4.2 List the count of observations for each elephant"
   ]
  },
  {
   "cell_type": "code",
   "execution_count": 38,
   "metadata": {},
   "outputs": [
    {
     "data": {
      "text/plain": [
       "MovDataID\n",
       "Anika         35\n",
       "Blanche      146\n",
       "Cami         139\n",
       "Claudine     134\n",
       "Dave         138\n",
       "DjeDje       138\n",
       "Frank        134\n",
       "George       132\n",
       "Laura        143\n",
       "Mahmahdou    132\n",
       "Marie         34\n",
       "Omar         144\n",
       "Sylvie       144\n",
       "Tapa         134\n",
       "Yves         134\n",
       "Zamba        146\n",
       "Name: CalcID, dtype: int64"
      ]
     },
     "execution_count": 38,
     "metadata": {},
     "output_type": "execute_result"
    }
   ],
   "source": [
    "grpName.count()['CalcID']"
   ]
  },
  {
   "cell_type": "markdown",
   "metadata": {},
   "source": [
    "### Demonstrations: Transforming/pivoting data"
   ]
  },
  {
   "cell_type": "code",
   "execution_count": 39,
   "metadata": {},
   "outputs": [],
   "source": [
    "#Add an \"hour\" column to the data \n",
    "df['Hour'] = df['Fixtime'].dt.hour"
   ]
  },
  {
   "cell_type": "markdown",
   "metadata": {},
   "source": [
    "Pivot the data such that: \n",
    "* Each each unique`MovDataID` value becomes a row\n",
    "* Each unique `Hour` value becomes a column\n",
    "* The table shows median X values for each combination of elephant (MovDataID) in each hour"
   ]
  },
  {
   "cell_type": "code",
   "execution_count": 40,
   "metadata": {},
   "outputs": [
    {
     "data": {
      "text/html": [
       "<div>\n",
       "<style scoped>\n",
       "    .dataframe tbody tr th:only-of-type {\n",
       "        vertical-align: middle;\n",
       "    }\n",
       "\n",
       "    .dataframe tbody tr th {\n",
       "        vertical-align: top;\n",
       "    }\n",
       "\n",
       "    .dataframe thead tr th {\n",
       "        text-align: left;\n",
       "    }\n",
       "\n",
       "    .dataframe thead tr:last-of-type th {\n",
       "        text-align: right;\n",
       "    }\n",
       "</style>\n",
       "<table border=\"1\" class=\"dataframe\">\n",
       "  <thead>\n",
       "    <tr>\n",
       "      <th></th>\n",
       "      <th colspan=\"21\" halign=\"left\">X</th>\n",
       "    </tr>\n",
       "    <tr>\n",
       "      <th>Hour</th>\n",
       "      <th>0</th>\n",
       "      <th>1</th>\n",
       "      <th>2</th>\n",
       "      <th>3</th>\n",
       "      <th>4</th>\n",
       "      <th>5</th>\n",
       "      <th>6</th>\n",
       "      <th>7</th>\n",
       "      <th>8</th>\n",
       "      <th>9</th>\n",
       "      <th>...</th>\n",
       "      <th>14</th>\n",
       "      <th>15</th>\n",
       "      <th>16</th>\n",
       "      <th>17</th>\n",
       "      <th>18</th>\n",
       "      <th>19</th>\n",
       "      <th>20</th>\n",
       "      <th>21</th>\n",
       "      <th>22</th>\n",
       "      <th>23</th>\n",
       "    </tr>\n",
       "    <tr>\n",
       "      <th>MovDataID</th>\n",
       "      <th></th>\n",
       "      <th></th>\n",
       "      <th></th>\n",
       "      <th></th>\n",
       "      <th></th>\n",
       "      <th></th>\n",
       "      <th></th>\n",
       "      <th></th>\n",
       "      <th></th>\n",
       "      <th></th>\n",
       "      <th></th>\n",
       "      <th></th>\n",
       "      <th></th>\n",
       "      <th></th>\n",
       "      <th></th>\n",
       "      <th></th>\n",
       "      <th></th>\n",
       "      <th></th>\n",
       "      <th></th>\n",
       "      <th></th>\n",
       "      <th></th>\n",
       "    </tr>\n",
       "  </thead>\n",
       "  <tbody>\n",
       "    <tr>\n",
       "      <th>Anika</th>\n",
       "      <td>-7.897617</td>\n",
       "      <td>NaN</td>\n",
       "      <td>NaN</td>\n",
       "      <td>-7.896600</td>\n",
       "      <td>-7.896067</td>\n",
       "      <td>NaN</td>\n",
       "      <td>NaN</td>\n",
       "      <td>-7.892808</td>\n",
       "      <td>-7.898033</td>\n",
       "      <td>NaN</td>\n",
       "      <td>...</td>\n",
       "      <td>NaN</td>\n",
       "      <td>-7.894158</td>\n",
       "      <td>-7.894400</td>\n",
       "      <td>NaN</td>\n",
       "      <td>NaN</td>\n",
       "      <td>-7.894667</td>\n",
       "      <td>-7.897067</td>\n",
       "      <td>NaN</td>\n",
       "      <td>NaN</td>\n",
       "      <td>-7.896750</td>\n",
       "    </tr>\n",
       "    <tr>\n",
       "      <th>Blanche</th>\n",
       "      <td>-7.873325</td>\n",
       "      <td>-7.874200</td>\n",
       "      <td>-7.872225</td>\n",
       "      <td>-7.872725</td>\n",
       "      <td>-7.872808</td>\n",
       "      <td>-7.872725</td>\n",
       "      <td>-7.870625</td>\n",
       "      <td>-7.869883</td>\n",
       "      <td>-7.869617</td>\n",
       "      <td>-7.869833</td>\n",
       "      <td>...</td>\n",
       "      <td>-7.871408</td>\n",
       "      <td>-7.871217</td>\n",
       "      <td>-7.870900</td>\n",
       "      <td>-7.871067</td>\n",
       "      <td>-7.871592</td>\n",
       "      <td>-7.872250</td>\n",
       "      <td>-7.872442</td>\n",
       "      <td>-7.872350</td>\n",
       "      <td>-7.872350</td>\n",
       "      <td>-7.872675</td>\n",
       "    </tr>\n",
       "    <tr>\n",
       "      <th>Cami</th>\n",
       "      <td>-7.625233</td>\n",
       "      <td>-7.625792</td>\n",
       "      <td>-7.625567</td>\n",
       "      <td>-7.625733</td>\n",
       "      <td>-7.626333</td>\n",
       "      <td>-7.627742</td>\n",
       "      <td>-7.625233</td>\n",
       "      <td>-7.622850</td>\n",
       "      <td>-7.626650</td>\n",
       "      <td>-7.625317</td>\n",
       "      <td>...</td>\n",
       "      <td>-7.628600</td>\n",
       "      <td>-7.628717</td>\n",
       "      <td>-7.628100</td>\n",
       "      <td>-7.627267</td>\n",
       "      <td>-7.625750</td>\n",
       "      <td>-7.628342</td>\n",
       "      <td>-7.627500</td>\n",
       "      <td>-7.625625</td>\n",
       "      <td>-7.625667</td>\n",
       "      <td>-7.624875</td>\n",
       "    </tr>\n",
       "    <tr>\n",
       "      <th>Claudine</th>\n",
       "      <td>-7.636350</td>\n",
       "      <td>-7.636333</td>\n",
       "      <td>-7.636500</td>\n",
       "      <td>-7.639217</td>\n",
       "      <td>-7.636217</td>\n",
       "      <td>-7.639133</td>\n",
       "      <td>-7.633033</td>\n",
       "      <td>-7.626092</td>\n",
       "      <td>-7.620417</td>\n",
       "      <td>-7.622208</td>\n",
       "      <td>...</td>\n",
       "      <td>-7.624783</td>\n",
       "      <td>-7.624200</td>\n",
       "      <td>-7.626700</td>\n",
       "      <td>-7.626200</td>\n",
       "      <td>-7.625958</td>\n",
       "      <td>-7.629417</td>\n",
       "      <td>-7.627683</td>\n",
       "      <td>-7.631425</td>\n",
       "      <td>-7.634042</td>\n",
       "      <td>-7.636358</td>\n",
       "    </tr>\n",
       "    <tr>\n",
       "      <th>Dave</th>\n",
       "      <td>-7.648208</td>\n",
       "      <td>-7.649417</td>\n",
       "      <td>-7.652392</td>\n",
       "      <td>-7.654192</td>\n",
       "      <td>-7.656533</td>\n",
       "      <td>-7.658667</td>\n",
       "      <td>-7.666950</td>\n",
       "      <td>-7.663233</td>\n",
       "      <td>-7.668350</td>\n",
       "      <td>-7.669183</td>\n",
       "      <td>...</td>\n",
       "      <td>-7.663300</td>\n",
       "      <td>-7.673433</td>\n",
       "      <td>-7.668567</td>\n",
       "      <td>-7.669833</td>\n",
       "      <td>-7.668908</td>\n",
       "      <td>-7.665333</td>\n",
       "      <td>-7.658783</td>\n",
       "      <td>-7.657883</td>\n",
       "      <td>-7.657383</td>\n",
       "      <td>-7.652008</td>\n",
       "    </tr>\n",
       "    <tr>\n",
       "      <th>DjeDje</th>\n",
       "      <td>-8.034317</td>\n",
       "      <td>-8.028633</td>\n",
       "      <td>-8.032100</td>\n",
       "      <td>-8.031583</td>\n",
       "      <td>-8.031150</td>\n",
       "      <td>-8.028950</td>\n",
       "      <td>-8.028617</td>\n",
       "      <td>-8.026675</td>\n",
       "      <td>-8.026067</td>\n",
       "      <td>-8.025067</td>\n",
       "      <td>...</td>\n",
       "      <td>-8.026633</td>\n",
       "      <td>-8.027283</td>\n",
       "      <td>-8.029933</td>\n",
       "      <td>-8.031025</td>\n",
       "      <td>-8.035433</td>\n",
       "      <td>-8.029550</td>\n",
       "      <td>-8.037425</td>\n",
       "      <td>-8.038933</td>\n",
       "      <td>-8.014683</td>\n",
       "      <td>-8.039450</td>\n",
       "    </tr>\n",
       "    <tr>\n",
       "      <th>Frank</th>\n",
       "      <td>-7.703317</td>\n",
       "      <td>-7.704525</td>\n",
       "      <td>-7.707117</td>\n",
       "      <td>-7.710242</td>\n",
       "      <td>-7.712417</td>\n",
       "      <td>-7.716758</td>\n",
       "      <td>-7.720117</td>\n",
       "      <td>-7.720550</td>\n",
       "      <td>-7.713542</td>\n",
       "      <td>-7.721167</td>\n",
       "      <td>...</td>\n",
       "      <td>-7.705850</td>\n",
       "      <td>-7.705417</td>\n",
       "      <td>-7.705983</td>\n",
       "      <td>-7.706167</td>\n",
       "      <td>-7.707233</td>\n",
       "      <td>-7.708550</td>\n",
       "      <td>-7.705433</td>\n",
       "      <td>-7.705650</td>\n",
       "      <td>-7.705017</td>\n",
       "      <td>-7.704067</td>\n",
       "    </tr>\n",
       "    <tr>\n",
       "      <th>George</th>\n",
       "      <td>-7.627433</td>\n",
       "      <td>-7.627408</td>\n",
       "      <td>-7.624450</td>\n",
       "      <td>-7.623467</td>\n",
       "      <td>-7.623800</td>\n",
       "      <td>-7.624258</td>\n",
       "      <td>-7.623817</td>\n",
       "      <td>-7.625750</td>\n",
       "      <td>-7.623825</td>\n",
       "      <td>-7.624175</td>\n",
       "      <td>...</td>\n",
       "      <td>-7.626533</td>\n",
       "      <td>-7.627217</td>\n",
       "      <td>-7.627017</td>\n",
       "      <td>-7.626975</td>\n",
       "      <td>-7.627517</td>\n",
       "      <td>-7.628725</td>\n",
       "      <td>-7.629058</td>\n",
       "      <td>-7.629033</td>\n",
       "      <td>-7.628367</td>\n",
       "      <td>-7.627467</td>\n",
       "    </tr>\n",
       "    <tr>\n",
       "      <th>Laura</th>\n",
       "      <td>-7.706492</td>\n",
       "      <td>-7.707325</td>\n",
       "      <td>-7.708017</td>\n",
       "      <td>-7.707950</td>\n",
       "      <td>-7.709250</td>\n",
       "      <td>-7.710033</td>\n",
       "      <td>-7.711183</td>\n",
       "      <td>-7.712017</td>\n",
       "      <td>-7.710492</td>\n",
       "      <td>-7.712217</td>\n",
       "      <td>...</td>\n",
       "      <td>-7.709900</td>\n",
       "      <td>-7.710433</td>\n",
       "      <td>-7.709083</td>\n",
       "      <td>-7.708000</td>\n",
       "      <td>-7.708850</td>\n",
       "      <td>-7.708950</td>\n",
       "      <td>-7.707842</td>\n",
       "      <td>-7.706883</td>\n",
       "      <td>-7.706342</td>\n",
       "      <td>-7.706883</td>\n",
       "    </tr>\n",
       "    <tr>\n",
       "      <th>Mahmahdou</th>\n",
       "      <td>-7.688508</td>\n",
       "      <td>-7.687992</td>\n",
       "      <td>-7.687000</td>\n",
       "      <td>-7.680667</td>\n",
       "      <td>-7.687067</td>\n",
       "      <td>-7.687083</td>\n",
       "      <td>-7.683033</td>\n",
       "      <td>-7.681133</td>\n",
       "      <td>-7.680867</td>\n",
       "      <td>-7.680100</td>\n",
       "      <td>...</td>\n",
       "      <td>-7.682333</td>\n",
       "      <td>-7.684550</td>\n",
       "      <td>-7.689100</td>\n",
       "      <td>-7.674658</td>\n",
       "      <td>-7.681967</td>\n",
       "      <td>-7.676200</td>\n",
       "      <td>-7.682325</td>\n",
       "      <td>-7.684667</td>\n",
       "      <td>-7.688842</td>\n",
       "      <td>-7.688358</td>\n",
       "    </tr>\n",
       "    <tr>\n",
       "      <th>Marie</th>\n",
       "      <td>NaN</td>\n",
       "      <td>-7.837250</td>\n",
       "      <td>NaN</td>\n",
       "      <td>NaN</td>\n",
       "      <td>NaN</td>\n",
       "      <td>-7.842942</td>\n",
       "      <td>NaN</td>\n",
       "      <td>NaN</td>\n",
       "      <td>NaN</td>\n",
       "      <td>-7.855983</td>\n",
       "      <td>...</td>\n",
       "      <td>NaN</td>\n",
       "      <td>NaN</td>\n",
       "      <td>NaN</td>\n",
       "      <td>-7.835325</td>\n",
       "      <td>NaN</td>\n",
       "      <td>NaN</td>\n",
       "      <td>NaN</td>\n",
       "      <td>-7.839717</td>\n",
       "      <td>NaN</td>\n",
       "      <td>NaN</td>\n",
       "    </tr>\n",
       "    <tr>\n",
       "      <th>Omar</th>\n",
       "      <td>-7.763725</td>\n",
       "      <td>-7.759217</td>\n",
       "      <td>-7.759150</td>\n",
       "      <td>-7.758175</td>\n",
       "      <td>-7.757208</td>\n",
       "      <td>-7.755650</td>\n",
       "      <td>-7.749483</td>\n",
       "      <td>-7.753150</td>\n",
       "      <td>-7.744633</td>\n",
       "      <td>-7.744900</td>\n",
       "      <td>...</td>\n",
       "      <td>-7.750683</td>\n",
       "      <td>-7.754083</td>\n",
       "      <td>-7.752433</td>\n",
       "      <td>-7.759458</td>\n",
       "      <td>-7.751358</td>\n",
       "      <td>-7.751717</td>\n",
       "      <td>-7.754675</td>\n",
       "      <td>-7.757192</td>\n",
       "      <td>-7.759075</td>\n",
       "      <td>-7.759325</td>\n",
       "    </tr>\n",
       "    <tr>\n",
       "      <th>Sylvie</th>\n",
       "      <td>-7.710508</td>\n",
       "      <td>-7.709667</td>\n",
       "      <td>-7.709908</td>\n",
       "      <td>-7.710908</td>\n",
       "      <td>-7.709883</td>\n",
       "      <td>-7.717433</td>\n",
       "      <td>-7.719750</td>\n",
       "      <td>-7.740725</td>\n",
       "      <td>-7.758542</td>\n",
       "      <td>-7.757017</td>\n",
       "      <td>...</td>\n",
       "      <td>-7.762383</td>\n",
       "      <td>-7.751367</td>\n",
       "      <td>-7.749125</td>\n",
       "      <td>-7.743583</td>\n",
       "      <td>-7.733983</td>\n",
       "      <td>-7.726808</td>\n",
       "      <td>-7.721075</td>\n",
       "      <td>-7.719308</td>\n",
       "      <td>-7.715267</td>\n",
       "      <td>-7.712408</td>\n",
       "    </tr>\n",
       "    <tr>\n",
       "      <th>Tapa</th>\n",
       "      <td>-7.706525</td>\n",
       "      <td>-7.704850</td>\n",
       "      <td>-7.704500</td>\n",
       "      <td>-7.705083</td>\n",
       "      <td>-7.706183</td>\n",
       "      <td>-7.706283</td>\n",
       "      <td>-7.708500</td>\n",
       "      <td>-7.709692</td>\n",
       "      <td>-7.722442</td>\n",
       "      <td>-7.717800</td>\n",
       "      <td>...</td>\n",
       "      <td>-7.709450</td>\n",
       "      <td>-7.711850</td>\n",
       "      <td>-7.711567</td>\n",
       "      <td>-7.708650</td>\n",
       "      <td>-7.707950</td>\n",
       "      <td>-7.708600</td>\n",
       "      <td>-7.708492</td>\n",
       "      <td>-7.706050</td>\n",
       "      <td>-7.705950</td>\n",
       "      <td>-7.706617</td>\n",
       "    </tr>\n",
       "    <tr>\n",
       "      <th>Yves</th>\n",
       "      <td>-7.674033</td>\n",
       "      <td>-7.672692</td>\n",
       "      <td>-7.670442</td>\n",
       "      <td>-7.669208</td>\n",
       "      <td>-7.666142</td>\n",
       "      <td>-7.666050</td>\n",
       "      <td>-7.666583</td>\n",
       "      <td>-7.666200</td>\n",
       "      <td>-7.665592</td>\n",
       "      <td>-7.665867</td>\n",
       "      <td>...</td>\n",
       "      <td>-7.666800</td>\n",
       "      <td>-7.667250</td>\n",
       "      <td>-7.667533</td>\n",
       "      <td>-7.666783</td>\n",
       "      <td>-7.673142</td>\n",
       "      <td>-7.676933</td>\n",
       "      <td>-7.676525</td>\n",
       "      <td>-7.677333</td>\n",
       "      <td>-7.675808</td>\n",
       "      <td>-7.674400</td>\n",
       "    </tr>\n",
       "    <tr>\n",
       "      <th>Zamba</th>\n",
       "      <td>-7.690308</td>\n",
       "      <td>-7.669317</td>\n",
       "      <td>-7.672733</td>\n",
       "      <td>-7.672700</td>\n",
       "      <td>-7.670333</td>\n",
       "      <td>-7.671425</td>\n",
       "      <td>-7.672283</td>\n",
       "      <td>-7.670083</td>\n",
       "      <td>-7.669433</td>\n",
       "      <td>-7.669667</td>\n",
       "      <td>...</td>\n",
       "      <td>-7.667375</td>\n",
       "      <td>-7.669183</td>\n",
       "      <td>-7.675633</td>\n",
       "      <td>-7.675467</td>\n",
       "      <td>-7.679183</td>\n",
       "      <td>-7.677275</td>\n",
       "      <td>-7.675817</td>\n",
       "      <td>-7.672017</td>\n",
       "      <td>-7.671000</td>\n",
       "      <td>-7.669483</td>\n",
       "    </tr>\n",
       "  </tbody>\n",
       "</table>\n",
       "<p>16 rows × 24 columns</p>\n",
       "</div>"
      ],
      "text/plain": [
       "                  X                                                    \\\n",
       "Hour             0         1         2         3         4         5    \n",
       "MovDataID                                                               \n",
       "Anika     -7.897617       NaN       NaN -7.896600 -7.896067       NaN   \n",
       "Blanche   -7.873325 -7.874200 -7.872225 -7.872725 -7.872808 -7.872725   \n",
       "Cami      -7.625233 -7.625792 -7.625567 -7.625733 -7.626333 -7.627742   \n",
       "Claudine  -7.636350 -7.636333 -7.636500 -7.639217 -7.636217 -7.639133   \n",
       "Dave      -7.648208 -7.649417 -7.652392 -7.654192 -7.656533 -7.658667   \n",
       "DjeDje    -8.034317 -8.028633 -8.032100 -8.031583 -8.031150 -8.028950   \n",
       "Frank     -7.703317 -7.704525 -7.707117 -7.710242 -7.712417 -7.716758   \n",
       "George    -7.627433 -7.627408 -7.624450 -7.623467 -7.623800 -7.624258   \n",
       "Laura     -7.706492 -7.707325 -7.708017 -7.707950 -7.709250 -7.710033   \n",
       "Mahmahdou -7.688508 -7.687992 -7.687000 -7.680667 -7.687067 -7.687083   \n",
       "Marie           NaN -7.837250       NaN       NaN       NaN -7.842942   \n",
       "Omar      -7.763725 -7.759217 -7.759150 -7.758175 -7.757208 -7.755650   \n",
       "Sylvie    -7.710508 -7.709667 -7.709908 -7.710908 -7.709883 -7.717433   \n",
       "Tapa      -7.706525 -7.704850 -7.704500 -7.705083 -7.706183 -7.706283   \n",
       "Yves      -7.674033 -7.672692 -7.670442 -7.669208 -7.666142 -7.666050   \n",
       "Zamba     -7.690308 -7.669317 -7.672733 -7.672700 -7.670333 -7.671425   \n",
       "\n",
       "                                                   ...                      \\\n",
       "Hour             6         7         8         9   ...        14        15   \n",
       "MovDataID                                          ...                       \n",
       "Anika           NaN -7.892808 -7.898033       NaN  ...       NaN -7.894158   \n",
       "Blanche   -7.870625 -7.869883 -7.869617 -7.869833  ... -7.871408 -7.871217   \n",
       "Cami      -7.625233 -7.622850 -7.626650 -7.625317  ... -7.628600 -7.628717   \n",
       "Claudine  -7.633033 -7.626092 -7.620417 -7.622208  ... -7.624783 -7.624200   \n",
       "Dave      -7.666950 -7.663233 -7.668350 -7.669183  ... -7.663300 -7.673433   \n",
       "DjeDje    -8.028617 -8.026675 -8.026067 -8.025067  ... -8.026633 -8.027283   \n",
       "Frank     -7.720117 -7.720550 -7.713542 -7.721167  ... -7.705850 -7.705417   \n",
       "George    -7.623817 -7.625750 -7.623825 -7.624175  ... -7.626533 -7.627217   \n",
       "Laura     -7.711183 -7.712017 -7.710492 -7.712217  ... -7.709900 -7.710433   \n",
       "Mahmahdou -7.683033 -7.681133 -7.680867 -7.680100  ... -7.682333 -7.684550   \n",
       "Marie           NaN       NaN       NaN -7.855983  ...       NaN       NaN   \n",
       "Omar      -7.749483 -7.753150 -7.744633 -7.744900  ... -7.750683 -7.754083   \n",
       "Sylvie    -7.719750 -7.740725 -7.758542 -7.757017  ... -7.762383 -7.751367   \n",
       "Tapa      -7.708500 -7.709692 -7.722442 -7.717800  ... -7.709450 -7.711850   \n",
       "Yves      -7.666583 -7.666200 -7.665592 -7.665867  ... -7.666800 -7.667250   \n",
       "Zamba     -7.672283 -7.670083 -7.669433 -7.669667  ... -7.667375 -7.669183   \n",
       "\n",
       "                                                                       \\\n",
       "Hour             16        17        18        19        20        21   \n",
       "MovDataID                                                               \n",
       "Anika     -7.894400       NaN       NaN -7.894667 -7.897067       NaN   \n",
       "Blanche   -7.870900 -7.871067 -7.871592 -7.872250 -7.872442 -7.872350   \n",
       "Cami      -7.628100 -7.627267 -7.625750 -7.628342 -7.627500 -7.625625   \n",
       "Claudine  -7.626700 -7.626200 -7.625958 -7.629417 -7.627683 -7.631425   \n",
       "Dave      -7.668567 -7.669833 -7.668908 -7.665333 -7.658783 -7.657883   \n",
       "DjeDje    -8.029933 -8.031025 -8.035433 -8.029550 -8.037425 -8.038933   \n",
       "Frank     -7.705983 -7.706167 -7.707233 -7.708550 -7.705433 -7.705650   \n",
       "George    -7.627017 -7.626975 -7.627517 -7.628725 -7.629058 -7.629033   \n",
       "Laura     -7.709083 -7.708000 -7.708850 -7.708950 -7.707842 -7.706883   \n",
       "Mahmahdou -7.689100 -7.674658 -7.681967 -7.676200 -7.682325 -7.684667   \n",
       "Marie           NaN -7.835325       NaN       NaN       NaN -7.839717   \n",
       "Omar      -7.752433 -7.759458 -7.751358 -7.751717 -7.754675 -7.757192   \n",
       "Sylvie    -7.749125 -7.743583 -7.733983 -7.726808 -7.721075 -7.719308   \n",
       "Tapa      -7.711567 -7.708650 -7.707950 -7.708600 -7.708492 -7.706050   \n",
       "Yves      -7.667533 -7.666783 -7.673142 -7.676933 -7.676525 -7.677333   \n",
       "Zamba     -7.675633 -7.675467 -7.679183 -7.677275 -7.675817 -7.672017   \n",
       "\n",
       "                               \n",
       "Hour             22        23  \n",
       "MovDataID                      \n",
       "Anika           NaN -7.896750  \n",
       "Blanche   -7.872350 -7.872675  \n",
       "Cami      -7.625667 -7.624875  \n",
       "Claudine  -7.634042 -7.636358  \n",
       "Dave      -7.657383 -7.652008  \n",
       "DjeDje    -8.014683 -8.039450  \n",
       "Frank     -7.705017 -7.704067  \n",
       "George    -7.628367 -7.627467  \n",
       "Laura     -7.706342 -7.706883  \n",
       "Mahmahdou -7.688842 -7.688358  \n",
       "Marie           NaN       NaN  \n",
       "Omar      -7.759075 -7.759325  \n",
       "Sylvie    -7.715267 -7.712408  \n",
       "Tapa      -7.705950 -7.706617  \n",
       "Yves      -7.675808 -7.674400  \n",
       "Zamba     -7.671000 -7.669483  \n",
       "\n",
       "[16 rows x 24 columns]"
      ]
     },
     "execution_count": 40,
     "metadata": {},
     "output_type": "execute_result"
    }
   ],
   "source": [
    "#Pivot data\n",
    "df.pivot_table(index='MovDataID',\n",
    "               columns='Hour',\n",
    "               values=['X'],\n",
    "               aggfunc='median'\n",
    "              )"
   ]
  },
  {
   "cell_type": "code",
   "execution_count": null,
   "metadata": {},
   "outputs": [],
   "source": []
  }
 ],
 "metadata": {
  "kernelspec": {
   "display_name": "Python 3",
   "language": "python",
   "name": "python3"
  },
  "language_info": {
   "codemirror_mode": {
    "name": "ipython",
    "version": 3
   },
   "file_extension": ".py",
   "mimetype": "text/x-python",
   "name": "python",
   "nbconvert_exporter": "python",
   "pygments_lexer": "ipython3",
   "version": "3.6.10"
  }
 },
 "nbformat": 4,
 "nbformat_minor": 2
}
